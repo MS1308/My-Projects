{
  "nbformat": 4,
  "nbformat_minor": 0,
  "metadata": {
    "colab": {
      "provenance": [],
      "authorship_tag": "ABX9TyPyp1mThRSxLsMtulWTcQeQ",
      "include_colab_link": true
    },
    "kernelspec": {
      "name": "python3",
      "display_name": "Python 3"
    },
    "language_info": {
      "name": "python"
    }
  },
  "cells": [
    {
      "cell_type": "markdown",
      "metadata": {
        "id": "view-in-github",
        "colab_type": "text"
      },
      "source": [
        "<a href=\"https://colab.research.google.com/github/MS1308/My-Projects/blob/main/AmazonStockLSTM-.ipynb\" target=\"_parent\"><img src=\"https://colab.research.google.com/assets/colab-badge.svg\" alt=\"Open In Colab\"/></a>"
      ]
    },
    {
      "source": [
        "from keras.layers import Dense, Activation, Dropout, LSTM\n",
        "from keras.models import Sequential\n",
        "import time #helper libraries"
      ],
      "cell_type": "code",
      "metadata": {
        "id": "kcP3OTJX_SrB"
      },
      "execution_count": 3,
      "outputs": []
    },
    {
      "cell_type": "code",
      "source": [
        "# Code to read csv file into Colaboratory:\n",
        "!pip install -U -q PyDrive\n",
        "from pydrive.auth import GoogleAuth\n",
        "from pydrive.drive import GoogleDrive\n",
        "from google.colab import auth\n",
        "from oauth2client.client import GoogleCredentials\n",
        "# Authenticate and create the PyDrive client.\n",
        "auth.authenticate_user()\n",
        "gauth = GoogleAuth()\n",
        "gauth.credentials = GoogleCredentials.get_application_default()\n",
        "drive = GoogleDrive(gauth)"
      ],
      "metadata": {
        "id": "H99SNcqX_bWS"
      },
      "execution_count": 5,
      "outputs": []
    },
    {
      "cell_type": "code",
      "source": [
        "link = 'https://drive.google.com/open?id=1y394o-wiPqYPaWzVYTPRr8xpE_aM9621'"
      ],
      "metadata": {
        "id": "nuUTTUEv_s-D"
      },
      "execution_count": 6,
      "outputs": []
    },
    {
      "cell_type": "code",
      "source": [
        "fluff, id = link.split('=')\n",
        "print (id) # Verify that you have everything after '='\n",
        ""
      ],
      "metadata": {
        "colab": {
          "base_uri": "https://localhost:8080/"
        },
        "id": "5L0fNxGX_xR5",
        "outputId": "0ed88c73-6549-49da-bb71-5250115da3d3"
      },
      "execution_count": 7,
      "outputs": [
        {
          "output_type": "stream",
          "name": "stdout",
          "text": [
            "1y394o-wiPqYPaWzVYTPRr8xpE_aM9621\n"
          ]
        }
      ]
    },
    {
      "cell_type": "code",
      "source": [
        "import pandas as pd\n",
        "downloaded = drive.CreateFile({'id':id})\n",
        "downloaded.GetContentFile('AMZN.csv')\n",
        "df3 = pd.read_csv('AMZN.csv')\n",
        "# Dataset is now stored in a Pandas Dataframe"
      ],
      "metadata": {
        "id": "KMPM5BEd_43C"
      },
      "execution_count": 8,
      "outputs": []
    },
    {
      "source": [
        "from keras.layers import Dense, Activation, Dropout # Changed import statement to reflect newer Keras version structure\n",
        "from keras.layers import LSTM\n",
        "from keras.models import Sequential\n",
        "import time #helper libraries"
      ],
      "cell_type": "code",
      "metadata": {
        "id": "sSrF5H8VAEVK"
      },
      "execution_count": 10,
      "outputs": []
    },
    {
      "cell_type": "code",
      "source": [
        "df3 = df3.dropna(axis = \"columns\")"
      ],
      "metadata": {
        "id": "aGRdnTM3AKER"
      },
      "execution_count": 11,
      "outputs": []
    },
    {
      "cell_type": "code",
      "source": [
        "df3.head()"
      ],
      "metadata": {
        "colab": {
          "base_uri": "https://localhost:8080/",
          "height": 206
        },
        "id": "sM39n_9WASdB",
        "outputId": "8cf4640c-e26d-4738-bf40-ac8a657f4867"
      },
      "execution_count": 12,
      "outputs": [
        {
          "output_type": "execute_result",
          "data": {
            "text/plain": [
              "       Date        Open        High         Low   Adj Close    Volume  \\\n",
              "0  1/4/2010  136.250000  136.610001  133.139999  133.899994   7599900   \n",
              "1  1/5/2010  133.429993  135.479996  131.809998  134.690002   8851900   \n",
              "2  1/6/2010  134.600006  134.729996  131.649994  132.250000   7178800   \n",
              "3  1/7/2010  132.009995  132.320007  128.800003  130.000000  11030200   \n",
              "4  1/8/2010  130.559998  133.679993  129.029999  133.520004   9830500   \n",
              "\n",
              "        Close  \n",
              "0  133.899994  \n",
              "1  134.690002  \n",
              "2  132.250000  \n",
              "3  130.000000  \n",
              "4  133.520004  "
            ],
            "text/html": [
              "\n",
              "  <div id=\"df-4c251450-3c26-4438-b865-24c0f5088ac9\" class=\"colab-df-container\">\n",
              "    <div>\n",
              "<style scoped>\n",
              "    .dataframe tbody tr th:only-of-type {\n",
              "        vertical-align: middle;\n",
              "    }\n",
              "\n",
              "    .dataframe tbody tr th {\n",
              "        vertical-align: top;\n",
              "    }\n",
              "\n",
              "    .dataframe thead th {\n",
              "        text-align: right;\n",
              "    }\n",
              "</style>\n",
              "<table border=\"1\" class=\"dataframe\">\n",
              "  <thead>\n",
              "    <tr style=\"text-align: right;\">\n",
              "      <th></th>\n",
              "      <th>Date</th>\n",
              "      <th>Open</th>\n",
              "      <th>High</th>\n",
              "      <th>Low</th>\n",
              "      <th>Adj Close</th>\n",
              "      <th>Volume</th>\n",
              "      <th>Close</th>\n",
              "    </tr>\n",
              "  </thead>\n",
              "  <tbody>\n",
              "    <tr>\n",
              "      <th>0</th>\n",
              "      <td>1/4/2010</td>\n",
              "      <td>136.250000</td>\n",
              "      <td>136.610001</td>\n",
              "      <td>133.139999</td>\n",
              "      <td>133.899994</td>\n",
              "      <td>7599900</td>\n",
              "      <td>133.899994</td>\n",
              "    </tr>\n",
              "    <tr>\n",
              "      <th>1</th>\n",
              "      <td>1/5/2010</td>\n",
              "      <td>133.429993</td>\n",
              "      <td>135.479996</td>\n",
              "      <td>131.809998</td>\n",
              "      <td>134.690002</td>\n",
              "      <td>8851900</td>\n",
              "      <td>134.690002</td>\n",
              "    </tr>\n",
              "    <tr>\n",
              "      <th>2</th>\n",
              "      <td>1/6/2010</td>\n",
              "      <td>134.600006</td>\n",
              "      <td>134.729996</td>\n",
              "      <td>131.649994</td>\n",
              "      <td>132.250000</td>\n",
              "      <td>7178800</td>\n",
              "      <td>132.250000</td>\n",
              "    </tr>\n",
              "    <tr>\n",
              "      <th>3</th>\n",
              "      <td>1/7/2010</td>\n",
              "      <td>132.009995</td>\n",
              "      <td>132.320007</td>\n",
              "      <td>128.800003</td>\n",
              "      <td>130.000000</td>\n",
              "      <td>11030200</td>\n",
              "      <td>130.000000</td>\n",
              "    </tr>\n",
              "    <tr>\n",
              "      <th>4</th>\n",
              "      <td>1/8/2010</td>\n",
              "      <td>130.559998</td>\n",
              "      <td>133.679993</td>\n",
              "      <td>129.029999</td>\n",
              "      <td>133.520004</td>\n",
              "      <td>9830500</td>\n",
              "      <td>133.520004</td>\n",
              "    </tr>\n",
              "  </tbody>\n",
              "</table>\n",
              "</div>\n",
              "    <div class=\"colab-df-buttons\">\n",
              "\n",
              "  <div class=\"colab-df-container\">\n",
              "    <button class=\"colab-df-convert\" onclick=\"convertToInteractive('df-4c251450-3c26-4438-b865-24c0f5088ac9')\"\n",
              "            title=\"Convert this dataframe to an interactive table.\"\n",
              "            style=\"display:none;\">\n",
              "\n",
              "  <svg xmlns=\"http://www.w3.org/2000/svg\" height=\"24px\" viewBox=\"0 -960 960 960\">\n",
              "    <path d=\"M120-120v-720h720v720H120Zm60-500h600v-160H180v160Zm220 220h160v-160H400v160Zm0 220h160v-160H400v160ZM180-400h160v-160H180v160Zm440 0h160v-160H620v160ZM180-180h160v-160H180v160Zm440 0h160v-160H620v160Z\"/>\n",
              "  </svg>\n",
              "    </button>\n",
              "\n",
              "  <style>\n",
              "    .colab-df-container {\n",
              "      display:flex;\n",
              "      gap: 12px;\n",
              "    }\n",
              "\n",
              "    .colab-df-convert {\n",
              "      background-color: #E8F0FE;\n",
              "      border: none;\n",
              "      border-radius: 50%;\n",
              "      cursor: pointer;\n",
              "      display: none;\n",
              "      fill: #1967D2;\n",
              "      height: 32px;\n",
              "      padding: 0 0 0 0;\n",
              "      width: 32px;\n",
              "    }\n",
              "\n",
              "    .colab-df-convert:hover {\n",
              "      background-color: #E2EBFA;\n",
              "      box-shadow: 0px 1px 2px rgba(60, 64, 67, 0.3), 0px 1px 3px 1px rgba(60, 64, 67, 0.15);\n",
              "      fill: #174EA6;\n",
              "    }\n",
              "\n",
              "    .colab-df-buttons div {\n",
              "      margin-bottom: 4px;\n",
              "    }\n",
              "\n",
              "    [theme=dark] .colab-df-convert {\n",
              "      background-color: #3B4455;\n",
              "      fill: #D2E3FC;\n",
              "    }\n",
              "\n",
              "    [theme=dark] .colab-df-convert:hover {\n",
              "      background-color: #434B5C;\n",
              "      box-shadow: 0px 1px 3px 1px rgba(0, 0, 0, 0.15);\n",
              "      filter: drop-shadow(0px 1px 2px rgba(0, 0, 0, 0.3));\n",
              "      fill: #FFFFFF;\n",
              "    }\n",
              "  </style>\n",
              "\n",
              "    <script>\n",
              "      const buttonEl =\n",
              "        document.querySelector('#df-4c251450-3c26-4438-b865-24c0f5088ac9 button.colab-df-convert');\n",
              "      buttonEl.style.display =\n",
              "        google.colab.kernel.accessAllowed ? 'block' : 'none';\n",
              "\n",
              "      async function convertToInteractive(key) {\n",
              "        const element = document.querySelector('#df-4c251450-3c26-4438-b865-24c0f5088ac9');\n",
              "        const dataTable =\n",
              "          await google.colab.kernel.invokeFunction('convertToInteractive',\n",
              "                                                    [key], {});\n",
              "        if (!dataTable) return;\n",
              "\n",
              "        const docLinkHtml = 'Like what you see? Visit the ' +\n",
              "          '<a target=\"_blank\" href=https://colab.research.google.com/notebooks/data_table.ipynb>data table notebook</a>'\n",
              "          + ' to learn more about interactive tables.';\n",
              "        element.innerHTML = '';\n",
              "        dataTable['output_type'] = 'display_data';\n",
              "        await google.colab.output.renderOutput(dataTable, element);\n",
              "        const docLink = document.createElement('div');\n",
              "        docLink.innerHTML = docLinkHtml;\n",
              "        element.appendChild(docLink);\n",
              "      }\n",
              "    </script>\n",
              "  </div>\n",
              "\n",
              "\n",
              "<div id=\"df-b49f97c7-2d3d-4314-b07f-64b7d1f79496\">\n",
              "  <button class=\"colab-df-quickchart\" onclick=\"quickchart('df-b49f97c7-2d3d-4314-b07f-64b7d1f79496')\"\n",
              "            title=\"Suggest charts\"\n",
              "            style=\"display:none;\">\n",
              "\n",
              "<svg xmlns=\"http://www.w3.org/2000/svg\" height=\"24px\"viewBox=\"0 0 24 24\"\n",
              "     width=\"24px\">\n",
              "    <g>\n",
              "        <path d=\"M19 3H5c-1.1 0-2 .9-2 2v14c0 1.1.9 2 2 2h14c1.1 0 2-.9 2-2V5c0-1.1-.9-2-2-2zM9 17H7v-7h2v7zm4 0h-2V7h2v10zm4 0h-2v-4h2v4z\"/>\n",
              "    </g>\n",
              "</svg>\n",
              "  </button>\n",
              "\n",
              "<style>\n",
              "  .colab-df-quickchart {\n",
              "      --bg-color: #E8F0FE;\n",
              "      --fill-color: #1967D2;\n",
              "      --hover-bg-color: #E2EBFA;\n",
              "      --hover-fill-color: #174EA6;\n",
              "      --disabled-fill-color: #AAA;\n",
              "      --disabled-bg-color: #DDD;\n",
              "  }\n",
              "\n",
              "  [theme=dark] .colab-df-quickchart {\n",
              "      --bg-color: #3B4455;\n",
              "      --fill-color: #D2E3FC;\n",
              "      --hover-bg-color: #434B5C;\n",
              "      --hover-fill-color: #FFFFFF;\n",
              "      --disabled-bg-color: #3B4455;\n",
              "      --disabled-fill-color: #666;\n",
              "  }\n",
              "\n",
              "  .colab-df-quickchart {\n",
              "    background-color: var(--bg-color);\n",
              "    border: none;\n",
              "    border-radius: 50%;\n",
              "    cursor: pointer;\n",
              "    display: none;\n",
              "    fill: var(--fill-color);\n",
              "    height: 32px;\n",
              "    padding: 0;\n",
              "    width: 32px;\n",
              "  }\n",
              "\n",
              "  .colab-df-quickchart:hover {\n",
              "    background-color: var(--hover-bg-color);\n",
              "    box-shadow: 0 1px 2px rgba(60, 64, 67, 0.3), 0 1px 3px 1px rgba(60, 64, 67, 0.15);\n",
              "    fill: var(--button-hover-fill-color);\n",
              "  }\n",
              "\n",
              "  .colab-df-quickchart-complete:disabled,\n",
              "  .colab-df-quickchart-complete:disabled:hover {\n",
              "    background-color: var(--disabled-bg-color);\n",
              "    fill: var(--disabled-fill-color);\n",
              "    box-shadow: none;\n",
              "  }\n",
              "\n",
              "  .colab-df-spinner {\n",
              "    border: 2px solid var(--fill-color);\n",
              "    border-color: transparent;\n",
              "    border-bottom-color: var(--fill-color);\n",
              "    animation:\n",
              "      spin 1s steps(1) infinite;\n",
              "  }\n",
              "\n",
              "  @keyframes spin {\n",
              "    0% {\n",
              "      border-color: transparent;\n",
              "      border-bottom-color: var(--fill-color);\n",
              "      border-left-color: var(--fill-color);\n",
              "    }\n",
              "    20% {\n",
              "      border-color: transparent;\n",
              "      border-left-color: var(--fill-color);\n",
              "      border-top-color: var(--fill-color);\n",
              "    }\n",
              "    30% {\n",
              "      border-color: transparent;\n",
              "      border-left-color: var(--fill-color);\n",
              "      border-top-color: var(--fill-color);\n",
              "      border-right-color: var(--fill-color);\n",
              "    }\n",
              "    40% {\n",
              "      border-color: transparent;\n",
              "      border-right-color: var(--fill-color);\n",
              "      border-top-color: var(--fill-color);\n",
              "    }\n",
              "    60% {\n",
              "      border-color: transparent;\n",
              "      border-right-color: var(--fill-color);\n",
              "    }\n",
              "    80% {\n",
              "      border-color: transparent;\n",
              "      border-right-color: var(--fill-color);\n",
              "      border-bottom-color: var(--fill-color);\n",
              "    }\n",
              "    90% {\n",
              "      border-color: transparent;\n",
              "      border-bottom-color: var(--fill-color);\n",
              "    }\n",
              "  }\n",
              "</style>\n",
              "\n",
              "  <script>\n",
              "    async function quickchart(key) {\n",
              "      const quickchartButtonEl =\n",
              "        document.querySelector('#' + key + ' button');\n",
              "      quickchartButtonEl.disabled = true;  // To prevent multiple clicks.\n",
              "      quickchartButtonEl.classList.add('colab-df-spinner');\n",
              "      try {\n",
              "        const charts = await google.colab.kernel.invokeFunction(\n",
              "            'suggestCharts', [key], {});\n",
              "      } catch (error) {\n",
              "        console.error('Error during call to suggestCharts:', error);\n",
              "      }\n",
              "      quickchartButtonEl.classList.remove('colab-df-spinner');\n",
              "      quickchartButtonEl.classList.add('colab-df-quickchart-complete');\n",
              "    }\n",
              "    (() => {\n",
              "      let quickchartButtonEl =\n",
              "        document.querySelector('#df-b49f97c7-2d3d-4314-b07f-64b7d1f79496 button');\n",
              "      quickchartButtonEl.style.display =\n",
              "        google.colab.kernel.accessAllowed ? 'block' : 'none';\n",
              "    })();\n",
              "  </script>\n",
              "</div>\n",
              "\n",
              "    </div>\n",
              "  </div>\n"
            ],
            "application/vnd.google.colaboratory.intrinsic+json": {
              "type": "dataframe",
              "variable_name": "df3",
              "summary": "{\n  \"name\": \"df3\",\n  \"rows\": 2265,\n  \"fields\": [\n    {\n      \"column\": \"Date\",\n      \"properties\": {\n        \"dtype\": \"object\",\n        \"num_unique_values\": 2265,\n        \"samples\": [\n          \"12/21/2016\",\n          \"2/5/2015\",\n          \"5/24/2011\"\n        ],\n        \"semantic_type\": \"\",\n        \"description\": \"\"\n      }\n    },\n    {\n      \"column\": \"Open\",\n      \"properties\": {\n        \"dtype\": \"number\",\n        \"std\": 470.15592039002024,\n        \"min\": 105.93,\n        \"max\": 2038.109985,\n        \"num_unique_values\": 2189,\n        \"samples\": [\n          169.389999,\n          772.400024,\n          1608.47998\n        ],\n        \"semantic_type\": \"\",\n        \"description\": \"\"\n      }\n    },\n    {\n      \"column\": \"High\",\n      \"properties\": {\n        \"dtype\": \"number\",\n        \"std\": 474.6606805771562,\n        \"min\": 111.290001,\n        \"max\": 2050.5,\n        \"num_unique_values\": 2196,\n        \"samples\": [\n          215.0,\n          902.380005,\n          217.800003\n        ],\n        \"semantic_type\": \"\",\n        \"description\": \"\"\n      }\n    },\n    {\n      \"column\": \"Low\",\n      \"properties\": {\n        \"dtype\": \"number\",\n        \"std\": 463.99373713167597,\n        \"min\": 105.800003,\n        \"max\": 2013.0,\n        \"num_unique_values\": 2200,\n        \"samples\": [\n          675.890015,\n          460.200012,\n          859.02002\n        ],\n        \"semantic_type\": \"\",\n        \"description\": \"\"\n      }\n    },\n    {\n      \"column\": \"Adj Close\",\n      \"properties\": {\n        \"dtype\": \"number\",\n        \"std\": 469.35778495308324,\n        \"min\": 108.610001,\n        \"max\": 2039.51001,\n        \"num_unique_values\": 2219,\n        \"samples\": [\n          574.809998,\n          217.0,\n          123.209999\n        ],\n        \"semantic_type\": \"\",\n        \"description\": \"\"\n      }\n    },\n    {\n      \"column\": \"Volume\",\n      \"properties\": {\n        \"dtype\": \"number\",\n        \"std\": 2954860,\n        \"min\": 984400,\n        \"max\": 42421100,\n        \"num_unique_values\": 2226,\n        \"samples\": [\n          16209600,\n          4600100,\n          6304400\n        ],\n        \"semantic_type\": \"\",\n        \"description\": \"\"\n      }\n    },\n    {\n      \"column\": \"Close\",\n      \"properties\": {\n        \"dtype\": \"number\",\n        \"std\": 469.35778495308324,\n        \"min\": 108.610001,\n        \"max\": 2039.51001,\n        \"num_unique_values\": 2219,\n        \"samples\": [\n          574.809998,\n          217.0,\n          123.209999\n        ],\n        \"semantic_type\": \"\",\n        \"description\": \"\"\n      }\n    }\n  ]\n}"
            }
          },
          "metadata": {},
          "execution_count": 12
        }
      ]
    },
    {
      "cell_type": "code",
      "source": [
        "import numpy as np"
      ],
      "metadata": {
        "id": "0TZW2c-DAXHJ"
      },
      "execution_count": 13,
      "outputs": []
    },
    {
      "cell_type": "code",
      "source": [
        "df_close = df3['Close']"
      ],
      "metadata": {
        "id": "yQorQyroAa0p"
      },
      "execution_count": 14,
      "outputs": []
    },
    {
      "cell_type": "code",
      "source": [
        "df_close.shape"
      ],
      "metadata": {
        "colab": {
          "base_uri": "https://localhost:8080/"
        },
        "id": "HofKFyHPAfW6",
        "outputId": "c333e80c-e0e0-49e6-9cbf-5f6f52740731"
      },
      "execution_count": 15,
      "outputs": [
        {
          "output_type": "execute_result",
          "data": {
            "text/plain": [
              "(2265,)"
            ]
          },
          "metadata": {},
          "execution_count": 15
        }
      ]
    },
    {
      "cell_type": "code",
      "source": [
        "#Reshaping it\n",
        "df_close = df_close.values.reshape(2265,1)\n",
        ""
      ],
      "metadata": {
        "id": "R_JJO7BjAjrR"
      },
      "execution_count": 16,
      "outputs": []
    },
    {
      "cell_type": "code",
      "source": [
        "import matplotlib.pyplot as plt\n",
        "from sklearn.preprocessing import MinMaxScaler\n",
        "\n",
        "#Ploting it\n",
        "plt.plot(df_close)\n",
        "plt.show()\n",
        "\n",
        "scaler = MinMaxScaler(feature_range=(0, 1))\n",
        "df_close = scaler.fit_transform(df_close)"
      ],
      "metadata": {
        "colab": {
          "base_uri": "https://localhost:8080/",
          "height": 430
        },
        "id": "v7IpUatrAnco",
        "outputId": "0402b487-dc90-4f5d-b394-c24989c9373e"
      },
      "execution_count": 17,
      "outputs": [
        {
          "output_type": "display_data",
          "data": {
            "text/plain": [
              "<Figure size 640x480 with 1 Axes>"
            ],
            "image/png": "[encoded data removed]"
          },
          "metadata": {}
        }
      ]
    },
    {
      "cell_type": "code",
      "source": [
        "train_size = int(len(df_close) * 0.80)\n",
        "test_size = len(df_close) - train_size\n",
        "train, test = df_close[0:train_size,:], df_close[train_size:len(df_close),:]\n",
        "print(len(train), len(test))"
      ],
      "metadata": {
        "colab": {
          "base_uri": "https://localhost:8080/"
        },
        "id": "5u80T5e4AseZ",
        "outputId": "a292c119-01f8-4e24-88c2-a7f606c41f69"
      },
      "execution_count": 18,
      "outputs": [
        {
          "output_type": "stream",
          "name": "stdout",
          "text": [
            "1812 453\n"
          ]
        }
      ]
    },
    {
      "cell_type": "code",
      "source": [
        "# convert an array of values into a dataset matrix\n",
        "def create_dataset(dataset, look_back=1): #keep only similar value data if a data point is too far of the last one jump to the next value\n",
        "\tdataX, dataY = [], []       #put this in data x\n",
        "\tfor i in range(len(dataset)-look_back-1): #let dataY have only output values\n",
        "\t\ta = dataset[i:(i+look_back), 0]\n",
        "\t\tdataX.append(a)\n",
        "\t\tdataY.append(dataset[i + look_back, 0])\n",
        "\treturn np.array(dataX), np.array(dataY)"
      ],
      "metadata": {
        "id": "e7k3uxRzAxLJ"
      },
      "execution_count": 19,
      "outputs": []
    },
    {
      "cell_type": "code",
      "source": [
        "# reshape into X=t and Y=t+1\n",
        "look_back = 1\n",
        "trainX, trainY = create_dataset(train, look_back)\n",
        "testX, testY = create_dataset(test, look_back)\n",
        ""
      ],
      "metadata": {
        "id": "DZvYtaK-A26J"
      },
      "execution_count": 20,
      "outputs": []
    },
    {
      "cell_type": "code",
      "source": [
        "trainX = np.reshape(trainX, (trainX.shape[0], 1, trainX.shape[1]))\n",
        "testX = np.reshape(testX, (testX.shape[0], 1, testX.shape[1]))\n",
        ""
      ],
      "metadata": {
        "id": "ZtQ-tVr1A7j5"
      },
      "execution_count": 21,
      "outputs": []
    },
    {
      "source": [
        "#Step 2 Build Model\n",
        "model = Sequential()\n",
        "\n",
        "model.add(LSTM(\n",
        "    units=50,\n",
        "    input_shape=(1, look_back), # Changed input_dim to input_shape\n",
        "    return_sequences=True))\n",
        "model.add(Dropout(0.2))\n",
        "\n",
        "model.add(LSTM(\n",
        "    100,\n",
        "    return_sequences=False))\n",
        "model.add(Dropout(0.2))\n",
        "\n",
        "model.add(Dense(\n",
        "    units=1))\n",
        "model.add(Activation('relu'))\n",
        "\n",
        "start = time.time()\n",
        "model.compile(loss='mse', optimizer='rmsprop', metrics=['mae'])\n",
        "print ('compilation time : ', time.time() - start)"
      ],
      "cell_type": "code",
      "metadata": {
        "colab": {
          "base_uri": "https://localhost:8080/"
        },
        "id": "ehQuNtSKBj8g",
        "outputId": "eccd62c6-a189-4870-aa05-099b07b026b5"
      },
      "execution_count": 24,
      "outputs": [
        {
          "output_type": "stream",
          "name": "stderr",
          "text": [
            "/usr/local/lib/python3.10/dist-packages/keras/src/layers/rnn/rnn.py:204: UserWarning: Do not pass an `input_shape`/`input_dim` argument to a layer. When using Sequential models, prefer using an `Input(shape)` object as the first layer in the model instead.\n",
            "  super().__init__(**kwargs)\n"
          ]
        },
        {
          "output_type": "stream",
          "name": "stdout",
          "text": [
            "compilation time :  0.054461002349853516\n"
          ]
        }
      ]
    },
    {
      "source": [
        "model.fit(\n",
        "    trainX,\n",
        "    trainY,\n",
        "    batch_size=128,\n",
        "    epochs=80, # Changed nb_epoch to epochs\n",
        "    validation_split=0.05)"
      ],
      "cell_type": "code",
      "metadata": {
        "colab": {
          "base_uri": "https://localhost:8080/"
        },
        "id": "6RfCHC9wCIbw",
        "outputId": "ee163b4e-ccc8-4c14-d5cd-c4a989d72976"
      },
      "execution_count": 27,
      "outputs": [
        {
          "output_type": "stream",
          "name": "stdout",
          "text": [
            "Epoch 1/80\n",
            "\u001b[1m14/14\u001b[0m \u001b[32m━━━━━━━━━━━━━━━━━━━━\u001b[0m\u001b[37m\u001b[0m \u001b[1m4s\u001b[0m 42ms/step - loss: 0.0159 - mae: 0.0899 - val_loss: 0.0713 - val_mae: 0.2663\n",
            "Epoch 2/80\n",
            "\u001b[1m14/14\u001b[0m \u001b[32m━━━━━━━━━━━━━━━━━━━━\u001b[0m\u001b[37m\u001b[0m \u001b[1m0s\u001b[0m 9ms/step - loss: 0.0089 - mae: 0.0690 - val_loss: 0.0592 - val_mae: 0.2425\n",
            "Epoch 3/80\n",
            "\u001b[1m14/14\u001b[0m \u001b[32m━━━━━━━━━━━━━━━━━━━━\u001b[0m\u001b[37m\u001b[0m \u001b[1m0s\u001b[0m 9ms/step - loss: 0.0081 - mae: 0.0693 - val_loss: 0.0582 - val_mae: 0.2405\n",
            "Epoch 4/80\n",
            "\u001b[1m14/14\u001b[0m \u001b[32m━━━━━━━━━━━━━━━━━━━━\u001b[0m\u001b[37m\u001b[0m \u001b[1m0s\u001b[0m 9ms/step - loss: 0.0077 - mae: 0.0679 - val_loss: 0.0570 - val_mae: 0.2381\n",
            "Epoch 5/80\n",
            "\u001b[1m14/14\u001b[0m \u001b[32m━━━━━━━━━━━━━━━━━━━━\u001b[0m\u001b[37m\u001b[0m \u001b[1m0s\u001b[0m 9ms/step - loss: 0.0081 - mae: 0.0696 - val_loss: 0.0572 - val_mae: 0.2383\n",
            "Epoch 6/80\n",
            "\u001b[1m14/14\u001b[0m \u001b[32m━━━━━━━━━━━━━━━━━━━━\u001b[0m\u001b[37m\u001b[0m \u001b[1m0s\u001b[0m 9ms/step - loss: 0.0082 - mae: 0.0704 - val_loss: 0.0560 - val_mae: 0.2359\n",
            "Epoch 7/80\n",
            "\u001b[1m14/14\u001b[0m \u001b[32m━━━━━━━━━━━━━━━━━━━━\u001b[0m\u001b[37m\u001b[0m \u001b[1m0s\u001b[0m 11ms/step - loss: 0.0078 - mae: 0.0683 - val_loss: 0.0568 - val_mae: 0.2376\n",
            "Epoch 8/80\n",
            "\u001b[1m14/14\u001b[0m \u001b[32m━━━━━━━━━━━━━━━━━━━━\u001b[0m\u001b[37m\u001b[0m \u001b[1m0s\u001b[0m 9ms/step - loss: 0.0076 - mae: 0.0677 - val_loss: 0.0577 - val_mae: 0.2394\n",
            "Epoch 9/80\n",
            "\u001b[1m14/14\u001b[0m \u001b[32m━━━━━━━━━━━━━━━━━━━━\u001b[0m\u001b[37m\u001b[0m \u001b[1m0s\u001b[0m 9ms/step - loss: 0.0074 - mae: 0.0655 - val_loss: 0.0517 - val_mae: 0.2266\n",
            "Epoch 10/80\n",
            "\u001b[1m14/14\u001b[0m \u001b[32m━━━━━━━━━━━━━━━━━━━━\u001b[0m\u001b[37m\u001b[0m \u001b[1m0s\u001b[0m 10ms/step - loss: 0.0073 - mae: 0.0659 - val_loss: 0.0503 - val_mae: 0.2235\n",
            "Epoch 11/80\n",
            "\u001b[1m14/14\u001b[0m \u001b[32m━━━━━━━━━━━━━━━━━━━━\u001b[0m\u001b[37m\u001b[0m \u001b[1m0s\u001b[0m 9ms/step - loss: 0.0074 - mae: 0.0658 - val_loss: 0.0482 - val_mae: 0.2188\n",
            "Epoch 12/80\n",
            "\u001b[1m14/14\u001b[0m \u001b[32m━━━━━━━━━━━━━━━━━━━━\u001b[0m\u001b[37m\u001b[0m \u001b[1m0s\u001b[0m 9ms/step - loss: 0.0067 - mae: 0.0628 - val_loss: 0.0401 - val_mae: 0.1994\n",
            "Epoch 13/80\n",
            "\u001b[1m14/14\u001b[0m \u001b[32m━━━━━━━━━━━━━━━━━━━━\u001b[0m\u001b[37m\u001b[0m \u001b[1m0s\u001b[0m 9ms/step - loss: 0.0067 - mae: 0.0653 - val_loss: 0.0436 - val_mae: 0.2081\n",
            "Epoch 14/80\n",
            "\u001b[1m14/14\u001b[0m \u001b[32m━━━━━━━━━━━━━━━━━━━━\u001b[0m\u001b[37m\u001b[0m \u001b[1m0s\u001b[0m 9ms/step - loss: 0.0059 - mae: 0.0593 - val_loss: 0.0417 - val_mae: 0.2035\n",
            "Epoch 15/80\n",
            "\u001b[1m14/14\u001b[0m \u001b[32m━━━━━━━━━━━━━━━━━━━━\u001b[0m\u001b[37m\u001b[0m \u001b[1m0s\u001b[0m 11ms/step - loss: 0.0055 - mae: 0.0572 - val_loss: 0.0328 - val_mae: 0.1804\n",
            "Epoch 16/80\n",
            "\u001b[1m14/14\u001b[0m \u001b[32m━━━━━━━━━━━━━━━━━━━━\u001b[0m\u001b[37m\u001b[0m \u001b[1m0s\u001b[0m 9ms/step - loss: 0.0052 - mae: 0.0566 - val_loss: 0.0343 - val_mae: 0.1846\n",
            "Epoch 17/80\n",
            "\u001b[1m14/14\u001b[0m \u001b[32m━━━━━━━━━━━━━━━━━━━━\u001b[0m\u001b[37m\u001b[0m \u001b[1m0s\u001b[0m 10ms/step - loss: 0.0046 - mae: 0.0523 - val_loss: 0.0289 - val_mae: 0.1693\n",
            "Epoch 18/80\n",
            "\u001b[1m14/14\u001b[0m \u001b[32m━━━━━━━━━━━━━━━━━━━━\u001b[0m\u001b[37m\u001b[0m \u001b[1m0s\u001b[0m 10ms/step - loss: 0.0047 - mae: 0.0532 - val_loss: 0.0290 - val_mae: 0.1698\n",
            "Epoch 19/80\n",
            "\u001b[1m14/14\u001b[0m \u001b[32m━━━━━━━━━━━━━━━━━━━━\u001b[0m\u001b[37m\u001b[0m \u001b[1m0s\u001b[0m 15ms/step - loss: 0.0042 - mae: 0.0496 - val_loss: 0.0233 - val_mae: 0.1521\n",
            "Epoch 20/80\n",
            "\u001b[1m14/14\u001b[0m \u001b[32m━━━━━━━━━━━━━━━━━━━━\u001b[0m\u001b[37m\u001b[0m \u001b[1m0s\u001b[0m 16ms/step - loss: 0.0033 - mae: 0.0452 - val_loss: 0.0200 - val_mae: 0.1409\n",
            "Epoch 21/80\n",
            "\u001b[1m14/14\u001b[0m \u001b[32m━━━━━━━━━━━━━━━━━━━━\u001b[0m\u001b[37m\u001b[0m \u001b[1m1s\u001b[0m 56ms/step - loss: 0.0030 - mae: 0.0425 - val_loss: 0.0143 - val_mae: 0.1192\n",
            "Epoch 22/80\n",
            "\u001b[1m14/14\u001b[0m \u001b[32m━━━━━━━━━━━━━━━━━━━━\u001b[0m\u001b[37m\u001b[0m \u001b[1m1s\u001b[0m 16ms/step - loss: 0.0023 - mae: 0.0375 - val_loss: 0.0115 - val_mae: 0.1069\n",
            "Epoch 23/80\n",
            "\u001b[1m14/14\u001b[0m \u001b[32m━━━━━━━━━━━━━━━━━━━━\u001b[0m\u001b[37m\u001b[0m \u001b[1m0s\u001b[0m 18ms/step - loss: 0.0018 - mae: 0.0330 - val_loss: 0.0082 - val_mae: 0.0903\n",
            "Epoch 24/80\n",
            "\u001b[1m14/14\u001b[0m \u001b[32m━━━━━━━━━━━━━━━━━━━━\u001b[0m\u001b[37m\u001b[0m \u001b[1m0s\u001b[0m 20ms/step - loss: 0.0015 - mae: 0.0303 - val_loss: 0.0087 - val_mae: 0.0928\n",
            "Epoch 25/80\n",
            "\u001b[1m14/14\u001b[0m \u001b[32m━━━━━━━━━━━━━━━━━━━━\u001b[0m\u001b[37m\u001b[0m \u001b[1m0s\u001b[0m 8ms/step - loss: 0.0011 - mae: 0.0254 - val_loss: 0.0058 - val_mae: 0.0760\n",
            "Epoch 26/80\n",
            "\u001b[1m14/14\u001b[0m \u001b[32m━━━━━━━━━━━━━━━━━━━━\u001b[0m\u001b[37m\u001b[0m \u001b[1m0s\u001b[0m 9ms/step - loss: 8.4052e-04 - mae: 0.0217 - val_loss: 0.0034 - val_mae: 0.0580\n",
            "Epoch 27/80\n",
            "\u001b[1m14/14\u001b[0m \u001b[32m━━━━━━━━━━━━━━━━━━━━\u001b[0m\u001b[37m\u001b[0m \u001b[1m0s\u001b[0m 10ms/step - loss: 6.3875e-04 - mae: 0.0190 - val_loss: 0.0028 - val_mae: 0.0526\n",
            "Epoch 28/80\n",
            "\u001b[1m14/14\u001b[0m \u001b[32m━━━━━━━━━━━━━━━━━━━━\u001b[0m\u001b[37m\u001b[0m \u001b[1m0s\u001b[0m 9ms/step - loss: 4.5501e-04 - mae: 0.0149 - val_loss: 0.0016 - val_mae: 0.0397\n",
            "Epoch 29/80\n",
            "\u001b[1m14/14\u001b[0m \u001b[32m━━━━━━━━━━━━━━━━━━━━\u001b[0m\u001b[37m\u001b[0m \u001b[1m0s\u001b[0m 9ms/step - loss: 3.2907e-04 - mae: 0.0126 - val_loss: 0.0011 - val_mae: 0.0326\n",
            "Epoch 30/80\n",
            "\u001b[1m14/14\u001b[0m \u001b[32m━━━━━━━━━━━━━━━━━━━━\u001b[0m\u001b[37m\u001b[0m \u001b[1m0s\u001b[0m 9ms/step - loss: 2.6997e-04 - mae: 0.0114 - val_loss: 3.4009e-04 - val_mae: 0.0177\n",
            "Epoch 31/80\n",
            "\u001b[1m14/14\u001b[0m \u001b[32m━━━━━━━━━━━━━━━━━━━━\u001b[0m\u001b[37m\u001b[0m \u001b[1m0s\u001b[0m 10ms/step - loss: 2.3359e-04 - mae: 0.0106 - val_loss: 1.2965e-04 - val_mae: 0.0104\n",
            "Epoch 32/80\n",
            "\u001b[1m14/14\u001b[0m \u001b[32m━━━━━━━━━━━━━━━━━━━━\u001b[0m\u001b[37m\u001b[0m \u001b[1m0s\u001b[0m 10ms/step - loss: 2.2163e-04 - mae: 0.0099 - val_loss: 2.8474e-04 - val_mae: 0.0161\n",
            "Epoch 33/80\n",
            "\u001b[1m14/14\u001b[0m \u001b[32m━━━━━━━━━━━━━━━━━━━━\u001b[0m\u001b[37m\u001b[0m \u001b[1m0s\u001b[0m 9ms/step - loss: 2.2738e-04 - mae: 0.0101 - val_loss: 4.5611e-05 - val_mae: 0.0056\n",
            "Epoch 34/80\n",
            "\u001b[1m14/14\u001b[0m \u001b[32m━━━━━━━━━━━━━━━━━━━━\u001b[0m\u001b[37m\u001b[0m \u001b[1m0s\u001b[0m 9ms/step - loss: 2.3062e-04 - mae: 0.0107 - val_loss: 1.2616e-04 - val_mae: 0.0103\n",
            "Epoch 35/80\n",
            "\u001b[1m14/14\u001b[0m \u001b[32m━━━━━━━━━━━━━━━━━━━━\u001b[0m\u001b[37m\u001b[0m \u001b[1m0s\u001b[0m 9ms/step - loss: 1.8047e-04 - mae: 0.0086 - val_loss: 5.5455e-05 - val_mae: 0.0064\n",
            "Epoch 36/80\n",
            "\u001b[1m14/14\u001b[0m \u001b[32m━━━━━━━━━━━━━━━━━━━━\u001b[0m\u001b[37m\u001b[0m \u001b[1m0s\u001b[0m 11ms/step - loss: 1.6549e-04 - mae: 0.0084 - val_loss: 5.7720e-05 - val_mae: 0.0065\n",
            "Epoch 37/80\n",
            "\u001b[1m14/14\u001b[0m \u001b[32m━━━━━━━━━━━━━━━━━━━━\u001b[0m\u001b[37m\u001b[0m \u001b[1m0s\u001b[0m 9ms/step - loss: 1.8728e-04 - mae: 0.0092 - val_loss: 7.4521e-05 - val_mae: 0.0076\n",
            "Epoch 38/80\n",
            "\u001b[1m14/14\u001b[0m \u001b[32m━━━━━━━━━━━━━━━━━━━━\u001b[0m\u001b[37m\u001b[0m \u001b[1m0s\u001b[0m 9ms/step - loss: 1.7839e-04 - mae: 0.0086 - val_loss: 8.7853e-05 - val_mae: 0.0084\n",
            "Epoch 39/80\n",
            "\u001b[1m14/14\u001b[0m \u001b[32m━━━━━━━━━━━━━━━━━━━━\u001b[0m\u001b[37m\u001b[0m \u001b[1m0s\u001b[0m 9ms/step - loss: 1.4490e-04 - mae: 0.0079 - val_loss: 1.3214e-04 - val_mae: 0.0105\n",
            "Epoch 40/80\n",
            "\u001b[1m14/14\u001b[0m \u001b[32m━━━━━━━━━━━━━━━━━━━━\u001b[0m\u001b[37m\u001b[0m \u001b[1m0s\u001b[0m 10ms/step - loss: 1.5293e-04 - mae: 0.0081 - val_loss: 2.3420e-04 - val_mae: 0.0145\n",
            "Epoch 41/80\n",
            "\u001b[1m14/14\u001b[0m \u001b[32m━━━━━━━━━━━━━━━━━━━━\u001b[0m\u001b[37m\u001b[0m \u001b[1m0s\u001b[0m 10ms/step - loss: 2.0453e-04 - mae: 0.0099 - val_loss: 9.3398e-05 - val_mae: 0.0087\n",
            "Epoch 42/80\n",
            "\u001b[1m14/14\u001b[0m \u001b[32m━━━━━━━━━━━━━━━━━━━━\u001b[0m\u001b[37m\u001b[0m \u001b[1m0s\u001b[0m 9ms/step - loss: 1.6445e-04 - mae: 0.0087 - val_loss: 3.8607e-05 - val_mae: 0.0049\n",
            "Epoch 43/80\n",
            "\u001b[1m14/14\u001b[0m \u001b[32m━━━━━━━━━━━━━━━━━━━━\u001b[0m\u001b[37m\u001b[0m \u001b[1m0s\u001b[0m 9ms/step - loss: 1.6258e-04 - mae: 0.0086 - val_loss: 2.6932e-05 - val_mae: 0.0037\n",
            "Epoch 44/80\n",
            "\u001b[1m14/14\u001b[0m \u001b[32m━━━━━━━━━━━━━━━━━━━━\u001b[0m\u001b[37m\u001b[0m \u001b[1m0s\u001b[0m 10ms/step - loss: 1.6998e-04 - mae: 0.0089 - val_loss: 6.4614e-05 - val_mae: 0.0070\n",
            "Epoch 45/80\n",
            "\u001b[1m14/14\u001b[0m \u001b[32m━━━━━━━━━━━━━━━━━━━━\u001b[0m\u001b[37m\u001b[0m \u001b[1m0s\u001b[0m 10ms/step - loss: 1.4399e-04 - mae: 0.0078 - val_loss: 7.2503e-05 - val_mae: 0.0075\n",
            "Epoch 46/80\n",
            "\u001b[1m14/14\u001b[0m \u001b[32m━━━━━━━━━━━━━━━━━━━━\u001b[0m\u001b[37m\u001b[0m \u001b[1m0s\u001b[0m 9ms/step - loss: 1.6832e-04 - mae: 0.0092 - val_loss: 3.6180e-05 - val_mae: 0.0047\n",
            "Epoch 47/80\n",
            "\u001b[1m14/14\u001b[0m \u001b[32m━━━━━━━━━━━━━━━━━━━━\u001b[0m\u001b[37m\u001b[0m \u001b[1m0s\u001b[0m 9ms/step - loss: 1.9173e-04 - mae: 0.0095 - val_loss: 1.2138e-04 - val_mae: 0.0101\n",
            "Epoch 48/80\n",
            "\u001b[1m14/14\u001b[0m \u001b[32m━━━━━━━━━━━━━━━━━━━━\u001b[0m\u001b[37m\u001b[0m \u001b[1m0s\u001b[0m 12ms/step - loss: 1.8600e-04 - mae: 0.0092 - val_loss: 4.7597e-05 - val_mae: 0.0056\n",
            "Epoch 49/80\n",
            "\u001b[1m14/14\u001b[0m \u001b[32m━━━━━━━━━━━━━━━━━━━━\u001b[0m\u001b[37m\u001b[0m \u001b[1m0s\u001b[0m 9ms/step - loss: 1.6945e-04 - mae: 0.0087 - val_loss: 1.0109e-04 - val_mae: 0.0090\n",
            "Epoch 50/80\n",
            "\u001b[1m14/14\u001b[0m \u001b[32m━━━━━━━━━━━━━━━━━━━━\u001b[0m\u001b[37m\u001b[0m \u001b[1m0s\u001b[0m 9ms/step - loss: 1.4974e-04 - mae: 0.0088 - val_loss: 3.6094e-05 - val_mae: 0.0047\n",
            "Epoch 51/80\n",
            "\u001b[1m14/14\u001b[0m \u001b[32m━━━━━━━━━━━━━━━━━━━━\u001b[0m\u001b[37m\u001b[0m \u001b[1m0s\u001b[0m 9ms/step - loss: 1.4484e-04 - mae: 0.0086 - val_loss: 2.9769e-05 - val_mae: 0.0041\n",
            "Epoch 52/80\n",
            "\u001b[1m14/14\u001b[0m \u001b[32m━━━━━━━━━━━━━━━━━━━━\u001b[0m\u001b[37m\u001b[0m \u001b[1m0s\u001b[0m 9ms/step - loss: 1.5164e-04 - mae: 0.0084 - val_loss: 4.7966e-05 - val_mae: 0.0057\n",
            "Epoch 53/80\n",
            "\u001b[1m14/14\u001b[0m \u001b[32m━━━━━━━━━━━━━━━━━━━━\u001b[0m\u001b[37m\u001b[0m \u001b[1m0s\u001b[0m 12ms/step - loss: 1.6366e-04 - mae: 0.0083 - val_loss: 7.5265e-05 - val_mae: 0.0075\n",
            "Epoch 54/80\n",
            "\u001b[1m14/14\u001b[0m \u001b[32m━━━━━━━━━━━━━━━━━━━━\u001b[0m\u001b[37m\u001b[0m \u001b[1m0s\u001b[0m 10ms/step - loss: 1.6004e-04 - mae: 0.0088 - val_loss: 2.6476e-05 - val_mae: 0.0037\n",
            "Epoch 55/80\n",
            "\u001b[1m14/14\u001b[0m \u001b[32m━━━━━━━━━━━━━━━━━━━━\u001b[0m\u001b[37m\u001b[0m \u001b[1m0s\u001b[0m 10ms/step - loss: 1.5068e-04 - mae: 0.0085 - val_loss: 5.4662e-05 - val_mae: 0.0063\n",
            "Epoch 56/80\n",
            "\u001b[1m14/14\u001b[0m \u001b[32m━━━━━━━━━━━━━━━━━━━━\u001b[0m\u001b[37m\u001b[0m \u001b[1m0s\u001b[0m 9ms/step - loss: 1.5675e-04 - mae: 0.0086 - val_loss: 2.6474e-05 - val_mae: 0.0037\n",
            "Epoch 57/80\n",
            "\u001b[1m14/14\u001b[0m \u001b[32m━━━━━━━━━━━━━━━━━━━━\u001b[0m\u001b[37m\u001b[0m \u001b[1m0s\u001b[0m 9ms/step - loss: 1.6809e-04 - mae: 0.0088 - val_loss: 2.6808e-05 - val_mae: 0.0038\n",
            "Epoch 58/80\n",
            "\u001b[1m14/14\u001b[0m \u001b[32m━━━━━━━━━━━━━━━━━━━━\u001b[0m\u001b[37m\u001b[0m \u001b[1m0s\u001b[0m 11ms/step - loss: 1.4994e-04 - mae: 0.0083 - val_loss: 6.4293e-05 - val_mae: 0.0068\n",
            "Epoch 59/80\n",
            "\u001b[1m14/14\u001b[0m \u001b[32m━━━━━━━━━━━━━━━━━━━━\u001b[0m\u001b[37m\u001b[0m \u001b[1m0s\u001b[0m 10ms/step - loss: 1.7497e-04 - mae: 0.0091 - val_loss: 8.3980e-05 - val_mae: 0.0081\n",
            "Epoch 60/80\n",
            "\u001b[1m14/14\u001b[0m \u001b[32m━━━━━━━━━━━━━━━━━━━━\u001b[0m\u001b[37m\u001b[0m \u001b[1m0s\u001b[0m 9ms/step - loss: 1.6650e-04 - mae: 0.0092 - val_loss: 2.6420e-05 - val_mae: 0.0037\n",
            "Epoch 61/80\n",
            "\u001b[1m14/14\u001b[0m \u001b[32m━━━━━━━━━━━━━━━━━━━━\u001b[0m\u001b[37m\u001b[0m \u001b[1m0s\u001b[0m 9ms/step - loss: 1.5486e-04 - mae: 0.0082 - val_loss: 7.4542e-05 - val_mae: 0.0076\n",
            "Epoch 62/80\n",
            "\u001b[1m14/14\u001b[0m \u001b[32m━━━━━━━━━━━━━━━━━━━━\u001b[0m\u001b[37m\u001b[0m \u001b[1m0s\u001b[0m 9ms/step - loss: 1.5057e-04 - mae: 0.0083 - val_loss: 1.1945e-04 - val_mae: 0.0100\n",
            "Epoch 63/80\n",
            "\u001b[1m14/14\u001b[0m \u001b[32m━━━━━━━━━━━━━━━━━━━━\u001b[0m\u001b[37m\u001b[0m \u001b[1m0s\u001b[0m 9ms/step - loss: 1.4551e-04 - mae: 0.0087 - val_loss: 1.6991e-04 - val_mae: 0.0121\n",
            "Epoch 64/80\n",
            "\u001b[1m14/14\u001b[0m \u001b[32m━━━━━━━━━━━━━━━━━━━━\u001b[0m\u001b[37m\u001b[0m \u001b[1m0s\u001b[0m 9ms/step - loss: 1.7098e-04 - mae: 0.0087 - val_loss: 8.9887e-05 - val_mae: 0.0084\n",
            "Epoch 65/80\n",
            "\u001b[1m14/14\u001b[0m \u001b[32m━━━━━━━━━━━━━━━━━━━━\u001b[0m\u001b[37m\u001b[0m \u001b[1m0s\u001b[0m 9ms/step - loss: 2.0389e-04 - mae: 0.0099 - val_loss: 3.5860e-05 - val_mae: 0.0046\n",
            "Epoch 66/80\n",
            "\u001b[1m14/14\u001b[0m \u001b[32m━━━━━━━━━━━━━━━━━━━━\u001b[0m\u001b[37m\u001b[0m \u001b[1m0s\u001b[0m 9ms/step - loss: 1.5343e-04 - mae: 0.0088 - val_loss: 2.7449e-05 - val_mae: 0.0038\n",
            "Epoch 67/80\n",
            "\u001b[1m14/14\u001b[0m \u001b[32m━━━━━━━━━━━━━━━━━━━━\u001b[0m\u001b[37m\u001b[0m \u001b[1m0s\u001b[0m 10ms/step - loss: 1.4701e-04 - mae: 0.0082 - val_loss: 4.8508e-05 - val_mae: 0.0057\n",
            "Epoch 68/80\n",
            "\u001b[1m14/14\u001b[0m \u001b[32m━━━━━━━━━━━━━━━━━━━━\u001b[0m\u001b[37m\u001b[0m \u001b[1m0s\u001b[0m 12ms/step - loss: 1.3873e-04 - mae: 0.0080 - val_loss: 3.2608e-05 - val_mae: 0.0043\n",
            "Epoch 69/80\n",
            "\u001b[1m14/14\u001b[0m \u001b[32m━━━━━━━━━━━━━━━━━━━━\u001b[0m\u001b[37m\u001b[0m \u001b[1m0s\u001b[0m 13ms/step - loss: 1.7363e-04 - mae: 0.0095 - val_loss: 7.2681e-05 - val_mae: 0.0075\n",
            "Epoch 70/80\n",
            "\u001b[1m14/14\u001b[0m \u001b[32m━━━━━━━━━━━━━━━━━━━━\u001b[0m\u001b[37m\u001b[0m \u001b[1m0s\u001b[0m 17ms/step - loss: 1.4509e-04 - mae: 0.0081 - val_loss: 6.6400e-05 - val_mae: 0.0070\n",
            "Epoch 71/80\n",
            "\u001b[1m14/14\u001b[0m \u001b[32m━━━━━━━━━━━━━━━━━━━━\u001b[0m\u001b[37m\u001b[0m \u001b[1m0s\u001b[0m 17ms/step - loss: 1.5232e-04 - mae: 0.0090 - val_loss: 1.2497e-04 - val_mae: 0.0102\n",
            "Epoch 72/80\n",
            "\u001b[1m14/14\u001b[0m \u001b[32m━━━━━━━━━━━━━━━━━━━━\u001b[0m\u001b[37m\u001b[0m \u001b[1m0s\u001b[0m 19ms/step - loss: 1.4431e-04 - mae: 0.0081 - val_loss: 9.4320e-05 - val_mae: 0.0087\n",
            "Epoch 73/80\n",
            "\u001b[1m14/14\u001b[0m \u001b[32m━━━━━━━━━━━━━━━━━━━━\u001b[0m\u001b[37m\u001b[0m \u001b[1m1s\u001b[0m 16ms/step - loss: 1.9173e-04 - mae: 0.0098 - val_loss: 2.8165e-05 - val_mae: 0.0039\n",
            "Epoch 74/80\n",
            "\u001b[1m14/14\u001b[0m \u001b[32m━━━━━━━━━━━━━━━━━━━━\u001b[0m\u001b[37m\u001b[0m \u001b[1m0s\u001b[0m 16ms/step - loss: 1.4632e-04 - mae: 0.0085 - val_loss: 4.1224e-05 - val_mae: 0.0051\n",
            "Epoch 75/80\n",
            "\u001b[1m14/14\u001b[0m \u001b[32m━━━━━━━━━━━━━━━━━━━━\u001b[0m\u001b[37m\u001b[0m \u001b[1m0s\u001b[0m 16ms/step - loss: 1.2753e-04 - mae: 0.0079 - val_loss: 2.7871e-05 - val_mae: 0.0039\n",
            "Epoch 76/80\n",
            "\u001b[1m14/14\u001b[0m \u001b[32m━━━━━━━━━━━━━━━━━━━━\u001b[0m\u001b[37m\u001b[0m \u001b[1m0s\u001b[0m 16ms/step - loss: 1.3041e-04 - mae: 0.0078 - val_loss: 2.7378e-05 - val_mae: 0.0038\n",
            "Epoch 77/80\n",
            "\u001b[1m14/14\u001b[0m \u001b[32m━━━━━━━━━━━━━━━━━━━━\u001b[0m\u001b[37m\u001b[0m \u001b[1m0s\u001b[0m 17ms/step - loss: 1.3407e-04 - mae: 0.0078 - val_loss: 2.7032e-05 - val_mae: 0.0038\n",
            "Epoch 78/80\n",
            "\u001b[1m14/14\u001b[0m \u001b[32m━━━━━━━━━━━━━━━━━━━━\u001b[0m\u001b[37m\u001b[0m \u001b[1m0s\u001b[0m 18ms/step - loss: 1.3839e-04 - mae: 0.0079 - val_loss: 7.4245e-05 - val_mae: 0.0075\n",
            "Epoch 79/80\n",
            "\u001b[1m14/14\u001b[0m \u001b[32m━━━━━━━━━━━━━━━━━━━━\u001b[0m\u001b[37m\u001b[0m \u001b[1m0s\u001b[0m 13ms/step - loss: 1.5482e-04 - mae: 0.0090 - val_loss: 4.8779e-05 - val_mae: 0.0058\n",
            "Epoch 80/80\n",
            "\u001b[1m14/14\u001b[0m \u001b[32m━━━━━━━━━━━━━━━━━━━━\u001b[0m\u001b[37m\u001b[0m \u001b[1m0s\u001b[0m 9ms/step - loss: 1.2238e-04 - mae: 0.0075 - val_loss: 6.1087e-05 - val_mae: 0.0066\n"
          ]
        },
        {
          "output_type": "execute_result",
          "data": {
            "text/plain": [
              "<keras.src.callbacks.history.History at 0x7e03fa7489a0>"
            ]
          },
          "metadata": {},
          "execution_count": 27
        }
      ]
    },
    {
      "source": [
        "model.fit(\n",
        "    trainX,\n",
        "    trainY,\n",
        "    batch_size=128,\n",
        "    epochs=40, # Changed nb_epoch to epochs\n",
        "    validation_split=0.05)"
      ],
      "cell_type": "code",
      "metadata": {
        "colab": {
          "base_uri": "https://localhost:8080/"
        },
        "id": "bdIloqX4Cfr4",
        "outputId": "a43ea2a4-69d4-4213-b8fe-8a2da68d9be3"
      },
      "execution_count": 30,
      "outputs": [
        {
          "output_type": "stream",
          "name": "stdout",
          "text": [
            "Epoch 1/40\n",
            "\u001b[1m14/14\u001b[0m \u001b[32m━━━━━━━━━━━━━━━━━━━━\u001b[0m\u001b[37m\u001b[0m \u001b[1m0s\u001b[0m 21ms/step - loss: 1.7054e-04 - mae: 0.0092 - val_loss: 3.6849e-05 - val_mae: 0.0047\n",
            "Epoch 2/40\n",
            "\u001b[1m14/14\u001b[0m \u001b[32m━━━━━━━━━━━━━━━━━━━━\u001b[0m\u001b[37m\u001b[0m \u001b[1m0s\u001b[0m 15ms/step - loss: 1.4138e-04 - mae: 0.0087 - val_loss: 3.8131e-05 - val_mae: 0.0048\n",
            "Epoch 3/40\n",
            "\u001b[1m14/14\u001b[0m \u001b[32m━━━━━━━━━━━━━━━━━━━━\u001b[0m\u001b[37m\u001b[0m \u001b[1m0s\u001b[0m 21ms/step - loss: 1.3170e-04 - mae: 0.0082 - val_loss: 2.6844e-05 - val_mae: 0.0038\n",
            "Epoch 4/40\n",
            "\u001b[1m14/14\u001b[0m \u001b[32m━━━━━━━━━━━━━━━━━━━━\u001b[0m\u001b[37m\u001b[0m \u001b[1m0s\u001b[0m 9ms/step - loss: 1.5273e-04 - mae: 0.0085 - val_loss: 3.8753e-05 - val_mae: 0.0049\n",
            "Epoch 5/40\n",
            "\u001b[1m14/14\u001b[0m \u001b[32m━━━━━━━━━━━━━━━━━━━━\u001b[0m\u001b[37m\u001b[0m \u001b[1m0s\u001b[0m 8ms/step - loss: 1.3103e-04 - mae: 0.0078 - val_loss: 7.9577e-05 - val_mae: 0.0079\n",
            "Epoch 6/40\n",
            "\u001b[1m14/14\u001b[0m \u001b[32m━━━━━━━━━━━━━━━━━━━━\u001b[0m\u001b[37m\u001b[0m \u001b[1m0s\u001b[0m 9ms/step - loss: 1.7503e-04 - mae: 0.0098 - val_loss: 3.3986e-05 - val_mae: 0.0044\n",
            "Epoch 7/40\n",
            "\u001b[1m14/14\u001b[0m \u001b[32m━━━━━━━━━━━━━━━━━━━━\u001b[0m\u001b[37m\u001b[0m \u001b[1m0s\u001b[0m 13ms/step - loss: 1.2636e-04 - mae: 0.0077 - val_loss: 7.8909e-05 - val_mae: 0.0078\n",
            "Epoch 8/40\n",
            "\u001b[1m14/14\u001b[0m \u001b[32m━━━━━━━━━━━━━━━━━━━━\u001b[0m\u001b[37m\u001b[0m \u001b[1m0s\u001b[0m 9ms/step - loss: 1.5519e-04 - mae: 0.0088 - val_loss: 3.9342e-05 - val_mae: 0.0050\n",
            "Epoch 9/40\n",
            "\u001b[1m14/14\u001b[0m \u001b[32m━━━━━━━━━━━━━━━━━━━━\u001b[0m\u001b[37m\u001b[0m \u001b[1m0s\u001b[0m 9ms/step - loss: 1.4587e-04 - mae: 0.0084 - val_loss: 2.8160e-05 - val_mae: 0.0039\n",
            "Epoch 10/40\n",
            "\u001b[1m14/14\u001b[0m \u001b[32m━━━━━━━━━━━━━━━━━━━━\u001b[0m\u001b[37m\u001b[0m \u001b[1m0s\u001b[0m 9ms/step - loss: 1.4112e-04 - mae: 0.0080 - val_loss: 3.7631e-05 - val_mae: 0.0048\n",
            "Epoch 11/40\n",
            "\u001b[1m14/14\u001b[0m \u001b[32m━━━━━━━━━━━━━━━━━━━━\u001b[0m\u001b[37m\u001b[0m \u001b[1m0s\u001b[0m 9ms/step - loss: 1.4285e-04 - mae: 0.0084 - val_loss: 1.2649e-04 - val_mae: 0.0103\n",
            "Epoch 12/40\n",
            "\u001b[1m14/14\u001b[0m \u001b[32m━━━━━━━━━━━━━━━━━━━━\u001b[0m\u001b[37m\u001b[0m \u001b[1m0s\u001b[0m 12ms/step - loss: 1.5602e-04 - mae: 0.0090 - val_loss: 3.5963e-05 - val_mae: 0.0046\n",
            "Epoch 13/40\n",
            "\u001b[1m14/14\u001b[0m \u001b[32m━━━━━━━━━━━━━━━━━━━━\u001b[0m\u001b[37m\u001b[0m \u001b[1m0s\u001b[0m 9ms/step - loss: 1.2409e-04 - mae: 0.0076 - val_loss: 1.6438e-04 - val_mae: 0.0119\n",
            "Epoch 14/40\n",
            "\u001b[1m14/14\u001b[0m \u001b[32m━━━━━━━━━━━━━━━━━━━━\u001b[0m\u001b[37m\u001b[0m \u001b[1m0s\u001b[0m 11ms/step - loss: 1.3763e-04 - mae: 0.0087 - val_loss: 2.7969e-05 - val_mae: 0.0039\n",
            "Epoch 15/40\n",
            "\u001b[1m14/14\u001b[0m \u001b[32m━━━━━━━━━━━━━━━━━━━━\u001b[0m\u001b[37m\u001b[0m \u001b[1m0s\u001b[0m 10ms/step - loss: 1.4671e-04 - mae: 0.0085 - val_loss: 2.6458e-05 - val_mae: 0.0037\n",
            "Epoch 16/40\n",
            "\u001b[1m14/14\u001b[0m \u001b[32m━━━━━━━━━━━━━━━━━━━━\u001b[0m\u001b[37m\u001b[0m \u001b[1m0s\u001b[0m 12ms/step - loss: 1.3027e-04 - mae: 0.0078 - val_loss: 4.0245e-05 - val_mae: 0.0050\n",
            "Epoch 17/40\n",
            "\u001b[1m14/14\u001b[0m \u001b[32m━━━━━━━━━━━━━━━━━━━━\u001b[0m\u001b[37m\u001b[0m \u001b[1m0s\u001b[0m 10ms/step - loss: 1.2968e-04 - mae: 0.0075 - val_loss: 5.5622e-05 - val_mae: 0.0063\n",
            "Epoch 18/40\n",
            "\u001b[1m14/14\u001b[0m \u001b[32m━━━━━━━━━━━━━━━━━━━━\u001b[0m\u001b[37m\u001b[0m \u001b[1m0s\u001b[0m 10ms/step - loss: 1.3906e-04 - mae: 0.0079 - val_loss: 1.0931e-04 - val_mae: 0.0095\n",
            "Epoch 19/40\n",
            "\u001b[1m14/14\u001b[0m \u001b[32m━━━━━━━━━━━━━━━━━━━━\u001b[0m\u001b[37m\u001b[0m \u001b[1m0s\u001b[0m 9ms/step - loss: 1.3969e-04 - mae: 0.0086 - val_loss: 1.5075e-04 - val_mae: 0.0113\n",
            "Epoch 20/40\n",
            "\u001b[1m14/14\u001b[0m \u001b[32m━━━━━━━━━━━━━━━━━━━━\u001b[0m\u001b[37m\u001b[0m \u001b[1m0s\u001b[0m 9ms/step - loss: 1.5284e-04 - mae: 0.0091 - val_loss: 3.8687e-05 - val_mae: 0.0049\n",
            "Epoch 21/40\n",
            "\u001b[1m14/14\u001b[0m \u001b[32m━━━━━━━━━━━━━━━━━━━━\u001b[0m\u001b[37m\u001b[0m \u001b[1m0s\u001b[0m 12ms/step - loss: 1.2777e-04 - mae: 0.0080 - val_loss: 6.0548e-05 - val_mae: 0.0067\n",
            "Epoch 22/40\n",
            "\u001b[1m14/14\u001b[0m \u001b[32m━━━━━━━━━━━━━━━━━━━━\u001b[0m\u001b[37m\u001b[0m \u001b[1m0s\u001b[0m 10ms/step - loss: 1.6072e-04 - mae: 0.0093 - val_loss: 8.5458e-05 - val_mae: 0.0082\n",
            "Epoch 23/40\n",
            "\u001b[1m14/14\u001b[0m \u001b[32m━━━━━━━━━━━━━━━━━━━━\u001b[0m\u001b[37m\u001b[0m \u001b[1m0s\u001b[0m 9ms/step - loss: 1.4465e-04 - mae: 0.0086 - val_loss: 5.0625e-05 - val_mae: 0.0059\n",
            "Epoch 24/40\n",
            "\u001b[1m14/14\u001b[0m \u001b[32m━━━━━━━━━━━━━━━━━━━━\u001b[0m\u001b[37m\u001b[0m \u001b[1m0s\u001b[0m 9ms/step - loss: 1.2549e-04 - mae: 0.0077 - val_loss: 2.7934e-05 - val_mae: 0.0038\n",
            "Epoch 25/40\n",
            "\u001b[1m14/14\u001b[0m \u001b[32m━━━━━━━━━━━━━━━━━━━━\u001b[0m\u001b[37m\u001b[0m \u001b[1m0s\u001b[0m 12ms/step - loss: 1.3347e-04 - mae: 0.0077 - val_loss: 3.1633e-05 - val_mae: 0.0042\n",
            "Epoch 26/40\n",
            "\u001b[1m14/14\u001b[0m \u001b[32m━━━━━━━━━━━━━━━━━━━━\u001b[0m\u001b[37m\u001b[0m \u001b[1m0s\u001b[0m 9ms/step - loss: 1.4789e-04 - mae: 0.0092 - val_loss: 8.6549e-05 - val_mae: 0.0083\n",
            "Epoch 27/40\n",
            "\u001b[1m14/14\u001b[0m \u001b[32m━━━━━━━━━━━━━━━━━━━━\u001b[0m\u001b[37m\u001b[0m \u001b[1m0s\u001b[0m 11ms/step - loss: 1.1808e-04 - mae: 0.0076 - val_loss: 2.6467e-05 - val_mae: 0.0037\n",
            "Epoch 28/40\n",
            "\u001b[1m14/14\u001b[0m \u001b[32m━━━━━━━━━━━━━━━━━━━━\u001b[0m\u001b[37m\u001b[0m \u001b[1m0s\u001b[0m 9ms/step - loss: 1.4293e-04 - mae: 0.0084 - val_loss: 2.6468e-05 - val_mae: 0.0037\n",
            "Epoch 29/40\n",
            "\u001b[1m14/14\u001b[0m \u001b[32m━━━━━━━━━━━━━━━━━━━━\u001b[0m\u001b[37m\u001b[0m \u001b[1m0s\u001b[0m 10ms/step - loss: 1.3704e-04 - mae: 0.0080 - val_loss: 1.1785e-04 - val_mae: 0.0098\n",
            "Epoch 30/40\n",
            "\u001b[1m14/14\u001b[0m \u001b[32m━━━━━━━━━━━━━━━━━━━━\u001b[0m\u001b[37m\u001b[0m \u001b[1m0s\u001b[0m 9ms/step - loss: 1.6123e-04 - mae: 0.0090 - val_loss: 3.2896e-05 - val_mae: 0.0043\n",
            "Epoch 31/40\n",
            "\u001b[1m14/14\u001b[0m \u001b[32m━━━━━━━━━━━━━━━━━━━━\u001b[0m\u001b[37m\u001b[0m \u001b[1m0s\u001b[0m 9ms/step - loss: 1.3523e-04 - mae: 0.0079 - val_loss: 4.4486e-05 - val_mae: 0.0054\n",
            "Epoch 32/40\n",
            "\u001b[1m14/14\u001b[0m \u001b[32m━━━━━━━━━━━━━━━━━━━━\u001b[0m\u001b[37m\u001b[0m \u001b[1m0s\u001b[0m 10ms/step - loss: 1.4316e-04 - mae: 0.0081 - val_loss: 3.1352e-05 - val_mae: 0.0042\n",
            "Epoch 33/40\n",
            "\u001b[1m14/14\u001b[0m \u001b[32m━━━━━━━━━━━━━━━━━━━━\u001b[0m\u001b[37m\u001b[0m \u001b[1m0s\u001b[0m 9ms/step - loss: 1.2753e-04 - mae: 0.0075 - val_loss: 1.1618e-04 - val_mae: 0.0097\n",
            "Epoch 34/40\n",
            "\u001b[1m14/14\u001b[0m \u001b[32m━━━━━━━━━━━━━━━━━━━━\u001b[0m\u001b[37m\u001b[0m \u001b[1m0s\u001b[0m 11ms/step - loss: 1.8097e-04 - mae: 0.0093 - val_loss: 2.9139e-05 - val_mae: 0.0040\n",
            "Epoch 35/40\n",
            "\u001b[1m14/14\u001b[0m \u001b[32m━━━━━━━━━━━━━━━━━━━━\u001b[0m\u001b[37m\u001b[0m \u001b[1m0s\u001b[0m 9ms/step - loss: 1.3385e-04 - mae: 0.0083 - val_loss: 1.3134e-04 - val_mae: 0.0105\n",
            "Epoch 36/40\n",
            "\u001b[1m14/14\u001b[0m \u001b[32m━━━━━━━━━━━━━━━━━━━━\u001b[0m\u001b[37m\u001b[0m \u001b[1m0s\u001b[0m 9ms/step - loss: 1.5720e-04 - mae: 0.0088 - val_loss: 3.9522e-05 - val_mae: 0.0050\n",
            "Epoch 37/40\n",
            "\u001b[1m14/14\u001b[0m \u001b[32m━━━━━━━━━━━━━━━━━━━━\u001b[0m\u001b[37m\u001b[0m \u001b[1m0s\u001b[0m 9ms/step - loss: 1.1313e-04 - mae: 0.0073 - val_loss: 6.0486e-05 - val_mae: 0.0067\n",
            "Epoch 38/40\n",
            "\u001b[1m14/14\u001b[0m \u001b[32m━━━━━━━━━━━━━━━━━━━━\u001b[0m\u001b[37m\u001b[0m \u001b[1m0s\u001b[0m 11ms/step - loss: 1.3759e-04 - mae: 0.0077 - val_loss: 1.1152e-04 - val_mae: 0.0095\n",
            "Epoch 39/40\n",
            "\u001b[1m14/14\u001b[0m \u001b[32m━━━━━━━━━━━━━━━━━━━━\u001b[0m\u001b[37m\u001b[0m \u001b[1m0s\u001b[0m 10ms/step - loss: 1.5886e-04 - mae: 0.0087 - val_loss: 1.0672e-04 - val_mae: 0.0093\n",
            "Epoch 40/40\n",
            "\u001b[1m14/14\u001b[0m \u001b[32m━━━━━━━━━━━━━━━━━━━━\u001b[0m\u001b[37m\u001b[0m \u001b[1m0s\u001b[0m 10ms/step - loss: 1.4424e-04 - mae: 0.0087 - val_loss: 8.4910e-05 - val_mae: 0.0082\n"
          ]
        },
        {
          "output_type": "execute_result",
          "data": {
            "text/plain": [
              "<keras.src.callbacks.history.History at 0x7e0360135e10>"
            ]
          },
          "metadata": {},
          "execution_count": 30
        }
      ]
    },
    {
      "cell_type": "code",
      "source": [
        "import matplotlib.pyplot as plt\n",
        "predicted_stateful = model.predict(testX)\n",
        "plt.plot(testY, color = 'red',label = 'Actual Closing Prices')\n",
        "plt.plot(predicted_stateful.flatten(), color = 'blue', label  = 'Predicted closing Prices')\n",
        "plt.xlabel('Days')\n",
        "plt.ylabel('Normalised Prices')\n",
        "plt.legend(loc='best')\n",
        "plt.show()\n",
        ""
      ],
      "metadata": {
        "colab": {
          "base_uri": "https://localhost:8080/",
          "height": 466
        },
        "id": "Jfx2fLZXC39f",
        "outputId": "2c290d75-770a-4178-a58d-c1985ade4e81"
      },
      "execution_count": 31,
      "outputs": [
        {
          "output_type": "stream",
          "name": "stdout",
          "text": [
            "\u001b[1m15/15\u001b[0m \u001b[32m━━━━━━━━━━━━━━━━━━━━\u001b[0m\u001b[37m\u001b[0m \u001b[1m2s\u001b[0m 66ms/step\n"
          ]
        },
        {
          "output_type": "display_data",
          "data": {
            "text/plain": [
              "<Figure size 640x480 with 1 Axes>"
            ],
            "image/png": "[encoded data removed]"
          },
          "metadata": {}
        }
      ]
    },
    {
      "cell_type": "code",
      "source": [
        "mae = model.evaluate(trainX,\n",
        "    trainY,\n",
        "    batch_size=128,verbose=1)"
      ],
      "metadata": {
        "colab": {
          "base_uri": "https://localhost:8080/"
        },
        "id": "S6atICP6DLg4",
        "outputId": "bcb2f677-4ad6-46f1-a3ab-dcff6b3e4b89"
      },
      "execution_count": 33,
      "outputs": [
        {
          "output_type": "stream",
          "name": "stdout",
          "text": [
            "\u001b[1m15/15\u001b[0m \u001b[32m━━━━━━━━━━━━━━━━━━━━\u001b[0m\u001b[37m\u001b[0m \u001b[1m0s\u001b[0m 3ms/step - loss: 4.0696e-05 - mae: 0.0058 \n"
          ]
        }
      ]
    }
  ]
}